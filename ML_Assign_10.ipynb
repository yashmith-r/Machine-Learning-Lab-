{
  "nbformat": 4,
  "nbformat_minor": 0,
  "metadata": {
    "colab": {
      "provenance": []
    },
    "kernelspec": {
      "name": "python3",
      "display_name": "Python 3"
    },
    "language_info": {
      "name": "python"
    }
  },
  "cells": [
    {
      "cell_type": "markdown",
      "source": [
        "1. a) Build a categorical naïve bayes classifier with the Iris dataset and evaluate the model.\n"
      ],
      "metadata": {
        "id": "pvLjZQ_3OCw3"
      }
    },
    {
      "cell_type": "code",
      "source": [
        "import pandas as pd\n",
        "import numpy as np\n",
        "from sklearn.model_selection import train_test_split\n",
        "from sklearn.datasets import load_iris\n",
        "\n",
        "iris = load_iris()\n",
        "X = iris.data\n",
        "y = iris.target\n",
        "\n",
        "X = np.array([pd.qcut(xi, q=4, labels=False, duplicates='drop') for xi in X.T]).T\n",
        "\n",
        "X_tr, X_te, y_tr, y_te = train_test_split(X, y, test_size=0.2, random_state=42)\n",
        "\n",
        "p_probs = np.bincount(y_tr) / len(y_tr)\n",
        "\n",
        "l_probs = {}\n",
        "for c in np.unique(y_tr):\n",
        "    l_probs[c] = [(pd.Series(X_tr[y_tr==c, i]).value_counts() / len(X_tr[y_tr==c, i])) for i in range(X_tr.shape[1])]\n",
        "\n",
        "def pred(X):\n",
        "    posteriors = np.zeros((X.shape[0], len(np.unique(y_tr))))\n",
        "    for c in np.unique(y_tr):\n",
        "        for i in range(X.shape[1]):\n",
        "            posteriors[:, c] += np.log(l_probs[c][i].get(X[:, i], 1e-6))\n",
        "        posteriors[:, c] += np.log(p_probs[c])\n",
        "    return np.argmax(posteriors, axis=1)\n",
        "\n",
        "y_prd = pred(X_te)\n",
        "\n",
        "acc = np.mean(y_prd == y_te)\n",
        "print(f'Accuracy: {acc}')\n"
      ],
      "metadata": {
        "colab": {
          "base_uri": "https://localhost:8080/"
        },
        "id": "DIr-fY9pOF1_",
        "outputId": "95dc70d6-a272-40a9-e859-2a307e10421f"
      },
      "execution_count": 1,
      "outputs": [
        {
          "output_type": "stream",
          "name": "stdout",
          "text": [
            "Accuracy: 0.5\n"
          ]
        }
      ]
    },
    {
      "cell_type": "markdown",
      "source": [
        "b) Build Gaussian naïve bayes classifier for the given Breast cancer dataset."
      ],
      "metadata": {
        "id": "nxzQccPHOvQ1"
      }
    },
    {
      "cell_type": "code",
      "source": [
        "import pandas as pd\n",
        "import numpy as np\n",
        "from sklearn.model_selection import train_test_split\n",
        "from scipy.stats import norm\n",
        "\n",
        "data = pd.read_csv('Breast_cancer_data.csv')\n",
        "X = data.drop('diagnosis', axis=1).values\n",
        "y = data['diagnosis'].values\n",
        "\n",
        "X_tr, X_te, y_tr, y_te = train_test_split(X, y, test_size=0.2, random_state=42)\n",
        "\n",
        "summary = {}\n",
        "for c in np.unique(y_tr):\n",
        "    summary[c] = [(np.mean(f), np.std(f)) for f in zip(*X_tr[y_tr==c])]\n",
        "\n",
        "def g_pdf(x, m, s):\n",
        "    return norm.pdf(x, loc=m, scale=s)\n",
        "\n",
        "def pred(X):\n",
        "    posteriors = np.zeros((X.shape[0], len(np.unique(y_tr))))\n",
        "    for c in np.unique(y_tr):\n",
        "        for i in range(X.shape[1]):\n",
        "            mean, std = summary[c][i]\n",
        "            posteriors[:, c] += np.log(g_pdf(X[:, i], mean, std))\n",
        "    return np.argmax(posteriors, axis=1)\n",
        "\n",
        "y_prd = pred(X_te)\n",
        "\n",
        "acc = np.mean(y_prd == y_te)\n",
        "print(f'Accuracy: {acc}')\n"
      ],
      "metadata": {
        "colab": {
          "base_uri": "https://localhost:8080/"
        },
        "id": "tlBSAQtiOyf2",
        "outputId": "701173fa-e7e0-43c9-91cd-38e703130dbc"
      },
      "execution_count": 4,
      "outputs": [
        {
          "output_type": "stream",
          "name": "stdout",
          "text": [
            "Accuracy: 0.9298245614035088\n"
          ]
        }
      ]
    }
  ]
}