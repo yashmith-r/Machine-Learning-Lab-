{
  "nbformat": 4,
  "nbformat_minor": 0,
  "metadata": {
    "colab": {
      "provenance": []
    },
    "kernelspec": {
      "name": "python3",
      "display_name": "Python 3"
    },
    "language_info": {
      "name": "python"
    }
  },
  "cells": [
    {
      "cell_type": "markdown",
      "source": [
        "1. Apply the dimensionality reduction techniques such as missing values ratio, low variance\n",
        "filter, and high correlation filter on the given data set.\n",
        "Note: For Missing Values Ratio (&gt;20%), For Low Variance and High Correlation reduce\n",
        "the dimension (12 to 8)."
      ],
      "metadata": {
        "id": "Q-lDqAvfpiF7"
      }
    },
    {
      "cell_type": "code",
      "source": [
        "import pandas as pd\n",
        "import numpy as np\n",
        "\n",
        "df = pd.read_csv('Train.csv')"
      ],
      "metadata": {
        "id": "pmbQKeOGpkAS"
      },
      "execution_count": 6,
      "outputs": []
    },
    {
      "cell_type": "markdown",
      "source": [
        "Step 1: Missing Values Ratio"
      ],
      "metadata": {
        "id": "t0-Ov25rNIbd"
      }
    },
    {
      "cell_type": "code",
      "source": [
        "missing_ratio_threshold = 0.2\n",
        "missing_values_ratio = df.isnull().mean()\n",
        "columns_to_drop_missing = missing_values_ratio[missing_values_ratio > missing_ratio_threshold].index\n",
        "df.drop(columns=columns_to_drop_missing, inplace=True)"
      ],
      "metadata": {
        "id": "haP977QzNI9V"
      },
      "execution_count": 7,
      "outputs": []
    },
    {
      "cell_type": "markdown",
      "source": [
        "Step 2: Low Variance Filter"
      ],
      "metadata": {
        "id": "lQKbw_HgNOcl"
      }
    },
    {
      "cell_type": "code",
      "source": [
        "variance_threshold = 0.1\n",
        "variances = df.var()\n",
        "columns_to_drop_variance = variances[variances < variance_threshold].index\n",
        "df.drop(columns=columns_to_drop_variance, inplace=True)"
      ],
      "metadata": {
        "colab": {
          "base_uri": "https://localhost:8080/"
        },
        "id": "h-m1TbqENOzw",
        "outputId": "fd298253-9515-47f7-8835-f8eb2efcbeda"
      },
      "execution_count": 8,
      "outputs": [
        {
          "output_type": "stream",
          "name": "stderr",
          "text": [
            "<ipython-input-8-80d14fc26b24>:2: FutureWarning: The default value of numeric_only in DataFrame.var is deprecated. In a future version, it will default to False. In addition, specifying 'numeric_only=None' is deprecated. Select only valid columns or specify the value of numeric_only to silence this warning.\n",
            "  variances = df.var()\n"
          ]
        }
      ]
    },
    {
      "cell_type": "markdown",
      "source": [
        "Display the reduced dataframe"
      ],
      "metadata": {
        "id": "pyTbqEXENUT2"
      }
    },
    {
      "cell_type": "code",
      "source": [
        "correlation_matrix = df.corr().abs()\n",
        "upper_triangle = correlation_matrix.where(np.triu(np.ones(correlation_matrix.shape), k=1).astype(bool))\n",
        "columns_to_drop_correlation = [column for column in upper_triangle.columns if any(upper_triangle[column] > 0.8)]\n",
        "df.drop(columns=columns_to_drop_correlation, inplace=True)\n",
        "\n",
        "print(df)"
      ],
      "metadata": {
        "colab": {
          "base_uri": "https://localhost:8080/"
        },
        "id": "JXZl7KioNWpj",
        "outputId": "af1849ae-ea05-4c9b-8b55-cde7acb7b22b"
      },
      "execution_count": 9,
      "outputs": [
        {
          "output_type": "stream",
          "name": "stdout",
          "text": [
            "     Item_Identifier  Item_Weight Item_Fat_Content              Item_Type  \\\n",
            "0              FDA15        9.300          Low Fat                  Dairy   \n",
            "1              DRC01        5.920          Regular            Soft Drinks   \n",
            "2              FDN15       17.500          Low Fat                   Meat   \n",
            "3              FDX07       19.200          Regular  Fruits and Vegetables   \n",
            "4              NCD19        8.930          Low Fat              Household   \n",
            "...              ...          ...              ...                    ...   \n",
            "8518           FDF22        6.865          Low Fat            Snack Foods   \n",
            "8519           FDS36        8.380          Regular           Baking Goods   \n",
            "8520           NCJ29       10.600          Low Fat     Health and Hygiene   \n",
            "8521           FDN46        7.210          Regular            Snack Foods   \n",
            "8522           DRG01       14.800          Low Fat            Soft Drinks   \n",
            "\n",
            "      Item_MRP Outlet_Identifier  Outlet_Establishment_Year  \\\n",
            "0     249.8092            OUT049                       1999   \n",
            "1      48.2692            OUT018                       2009   \n",
            "2     141.6180            OUT049                       1999   \n",
            "3     182.0950            OUT010                       1998   \n",
            "4      53.8614            OUT013                       1987   \n",
            "...        ...               ...                        ...   \n",
            "8518  214.5218            OUT013                       1987   \n",
            "8519  108.1570            OUT045                       2002   \n",
            "8520   85.1224            OUT035                       2004   \n",
            "8521  103.1332            OUT018                       2009   \n",
            "8522   75.4670            OUT046                       1997   \n",
            "\n",
            "     Outlet_Location_Type        Outlet_Type  Item_Outlet_Sales  \n",
            "0                  Tier 1  Supermarket Type1          3735.1380  \n",
            "1                  Tier 3  Supermarket Type2           443.4228  \n",
            "2                  Tier 1  Supermarket Type1          2097.2700  \n",
            "3                  Tier 3      Grocery Store           732.3800  \n",
            "4                  Tier 3  Supermarket Type1           994.7052  \n",
            "...                   ...                ...                ...  \n",
            "8518               Tier 3  Supermarket Type1          2778.3834  \n",
            "8519               Tier 2  Supermarket Type1           549.2850  \n",
            "8520               Tier 2  Supermarket Type1          1193.1136  \n",
            "8521               Tier 3  Supermarket Type2          1845.5976  \n",
            "8522               Tier 1  Supermarket Type1           765.6700  \n",
            "\n",
            "[8523 rows x 10 columns]\n"
          ]
        },
        {
          "output_type": "stream",
          "name": "stderr",
          "text": [
            "<ipython-input-9-09b3b34bda93>:1: FutureWarning: The default value of numeric_only in DataFrame.corr is deprecated. In a future version, it will default to False. Select only valid columns or specify the value of numeric_only to silence this warning.\n",
            "  correlation_matrix = df.corr().abs()\n"
          ]
        }
      ]
    }
  ]
}