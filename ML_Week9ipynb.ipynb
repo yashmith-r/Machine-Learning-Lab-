{
  "nbformat": 4,
  "nbformat_minor": 0,
  "metadata": {
    "colab": {
      "provenance": []
    },
    "kernelspec": {
      "name": "python3",
      "display_name": "Python 3"
    },
    "language_info": {
      "name": "python"
    }
  },
  "cells": [
    {
      "cell_type": "code",
      "execution_count": 3,
      "metadata": {
        "id": "wkLXZ8BcKcM2"
      },
      "outputs": [],
      "source": [
        "import pandas as pd\n",
        "from sklearn.metrics.pairwise import cosine_similarity\n",
        "from sklearn.metrics import pairwise_distances\n",
        "\n",
        "movies = pd.read_csv('movies.csv')\n",
        "ratings = pd.read_csv('ratings.csv')\n",
        "\n",
        "movies['t'] = movies['title'].str.lower()\n",
        "data = pd.merge(ratings, movies, on='movieId')\n",
        "matrix = data.pivot_table(index='userId', columns='t', values='rating')"
      ]
    },
    {
      "cell_type": "markdown",
      "source": [
        "Content-based filtering"
      ],
      "metadata": {
        "id": "wze1q1DtKoA5"
      }
    },
    {
      "cell_type": "code",
      "source": [
        "sim_item = cosine_similarity(matrix.fillna(0).T)\n",
        "sim_item_df = pd.DataFrame(sim_item, index=matrix.columns, columns=matrix.columns)"
      ],
      "metadata": {
        "id": "9ilBaMx_KlOG"
      },
      "execution_count": 4,
      "outputs": []
    },
    {
      "cell_type": "markdown",
      "source": [
        "Collaborative filtering"
      ],
      "metadata": {
        "id": "DpgoA1FxKtnk"
      }
    },
    {
      "cell_type": "code",
      "source": [
        "sim_user = 1 - pairwise_distances(matrix.fillna(0), metric='correlation')\n",
        "sim_user_df = pd.DataFrame(sim_user, index=matrix.index, columns=matrix.index)"
      ],
      "metadata": {
        "id": "DxahqPLHKrr4"
      },
      "execution_count": 5,
      "outputs": []
    },
    {
      "cell_type": "code",
      "source": [
        "def similar_movies(movie, rating):\n",
        "    scores = sim_item_df[movie]*(rating-2.5)\n",
        "    scores = scores.sort_values(ascending=False)\n",
        "    return scores\n",
        "\n",
        "def similar_users(user):\n",
        "    scores = sim_user_df[user]\n",
        "    scores = scores.sort_values(ascending=False)\n",
        "    return scores\n",
        "\n",
        "movie = \"toy story (1995)\"\n",
        "rating = 4\n",
        "\n",
        "movies_recommendations = similar_movies(movie, rating)\n",
        "print(\"Content-based Filtering recommendations: \")\n",
        "print(movies_recommendations.head(20))\n",
        "\n",
        "user = 1\n",
        "user_recommendations = similar_users(user)\n",
        "print(\"\\n\\nCollaborative Filtering recommendations:\")\n",
        "print(user_recommendations.head(20))"
      ],
      "metadata": {
        "colab": {
          "base_uri": "https://localhost:8080/"
        },
        "id": "rW8wk0V6Ky94",
        "outputId": "8305e5ee-e6fd-4ca4-e28f-327372d38d9e"
      },
      "execution_count": 10,
      "outputs": [
        {
          "output_type": "stream",
          "name": "stdout",
          "text": [
            "Content-based Filtering recommendations: \n",
            "t\n",
            "toy story (1995)                                         1.500000\n",
            "toy story 2 (1999)                                       0.858902\n",
            "jurassic park (1993)                                     0.848455\n",
            "independence day (a.k.a. id4) (1996)                     0.846393\n",
            "star wars: episode iv - a new hope (1977)                0.836082\n",
            "forrest gump (1994)                                      0.820644\n",
            "lion king, the (1994)                                    0.811718\n",
            "star wars: episode vi - return of the jedi (1983)        0.811634\n",
            "mission: impossible (1996)                               0.808369\n",
            "groundhog day (1993)                                     0.801253\n",
            "back to the future (1985)                                0.795572\n",
            "shrek (2001)                                             0.791965\n",
            "aladdin (1992)                                           0.791789\n",
            "apollo 13 (1995)                                         0.780487\n",
            "pulp fiction (1994)                                      0.777049\n",
            "star wars: episode v - the empire strikes back (1980)    0.771273\n",
            "willy wonka & the chocolate factory (1971)               0.768368\n",
            "men in black (a.k.a. mib) (1997)                         0.763976\n",
            "twelve monkeys (a.k.a. 12 monkeys) (1995)                0.762889\n",
            "shawshank redemption, the (1994)                         0.762817\n",
            "Name: toy story (1995), dtype: float64\n",
            "\n",
            "\n",
            "Collaborative Filtering recommendations:\n",
            "userId\n",
            "1      1.000000\n",
            "266    0.344977\n",
            "313    0.333866\n",
            "368    0.324030\n",
            "57     0.323936\n",
            "39     0.320115\n",
            "452    0.313142\n",
            "91     0.311333\n",
            "469    0.309078\n",
            "45     0.307557\n",
            "135    0.306833\n",
            "330    0.305925\n",
            "577    0.304195\n",
            "288    0.300282\n",
            "19     0.300026\n",
            "590    0.298461\n",
            "217    0.296281\n",
            "480    0.293268\n",
            "561    0.292195\n",
            "64     0.291688\n",
            "Name: 1, dtype: float64\n"
          ]
        }
      ]
    }
  ]
}